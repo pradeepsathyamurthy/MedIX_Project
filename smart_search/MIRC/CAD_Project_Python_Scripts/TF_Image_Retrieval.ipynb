{
 "cells": [
  {
   "cell_type": "markdown",
   "metadata": {
    "collapsed": false
   },
   "source": [
    "# Import libraries"
   ]
  },
  {
   "cell_type": "code",
   "execution_count": 1,
   "metadata": {
    "collapsed": true
   },
   "outputs": [],
   "source": [
    "##################################################################################################\n",
    "###                                                                                            ###\n",
    "### Download Images from RSNA Teaching Files ver 1.4                                           ###\n",
    "### (Download all jpeg and dicom images as well as generatedicom image)                        ###\n",
    "### (Generate a csv file that contains all image path info)                                    ###          \n",
    "###                                                                                            ###\n",
    "### 1. Instruction                                                                             ###\n",
    "###    1) Make sure to set the query correctly                                                 ###\n",
    "###    2) Make sure you run Query_Result_Table_Generator.ipynb first to obtain diff_df.csv     ###\n",
    "###    3) Simply run all codes below and new directories(teaching file title) are created      ###       \n",
    "###    4) For each newly created folders all corresponding images will be downloaded           ###\n",
    "##################################################################################################"
   ]
  },
  {
   "cell_type": "code",
   "execution_count": 2,
   "metadata": {
    "collapsed": false
   },
   "outputs": [],
   "source": [
    "import urllib\n",
    "import requests\n",
    "import re\n",
    "import os\n",
    "import pandas as pd\n",
    "from bs4 import BeautifulSoup\n",
    "from datetime import datetime\n",
    "from slimit import ast\n",
    "from slimit.parser import Parser\n",
    "from slimit.visitors import nodevisitor\n",
    "\n",
    "# Filter warnings\n",
    "import warnings\n",
    "warnings.filterwarnings(\"ignore\")"
   ]
  },
  {
   "cell_type": "markdown",
   "metadata": {},
   "source": [
    "# Mimic Post Request"
   ]
  },
  {
   "cell_type": "code",
   "execution_count": 3,
   "metadata": {
    "collapsed": false
   },
   "outputs": [],
   "source": [
    "# Type any keyword in 'query' variable\n",
    "query = ''\n",
    "payload = {'firstresult':'1', 'maxresults':'5000','orderby':'1','server':'0:1:2:3:4:5:6:7:8:9:10:11:12:13:14:15:16:17:18:20:21:22','document':query} # Query\n",
    "r2 = requests.post(\"http://mirc.rsna.org/query\", data=payload)"
   ]
  },
  {
   "cell_type": "markdown",
   "metadata": {
    "collapsed": true
   },
   "source": [
    "# Main functions"
   ]
  },
  {
   "cell_type": "code",
   "execution_count": 4,
   "metadata": {
    "collapsed": false
   },
   "outputs": [],
   "source": [
    "# Convert into a beautifulsoup object\n",
    "bbs = BeautifulSoup(r2.text, \"lxml\")"
   ]
  },
  {
   "cell_type": "code",
   "execution_count": 5,
   "metadata": {
    "collapsed": false
   },
   "outputs": [
    {
     "name": "stdout",
     "output_type": "stream",
     "text": [
      "[512, 2, 519, 10, 523, 21, 23, 24, 26, 27, 28, 29, 30, 31, 32, 33, 34, 550, 562, 567, 2114, 2116, 2117, 2118, 2119, 2120, 2121, 2122, 2123, 2124, 2125, 2126, 2127, 2128, 2129, 2130, 595, 2131, 2132, 2133, 2134, 2135, 2136, 2137, 2138, 2139, 605, 2140, 2141, 2142, 2143, 2144, 2145, 100, 101, 2146, 2147, 2148, 2149, 2150, 2151, 2152, 2153, 2154, 2155, 2156, 2157, 2158, 2159, 2160, 2161, 630, 2162, 2163, 633, 2164, 2165, 2166, 2167, 2168, 2169, 2170, 2171, 2172, 2173, 2174, 2175, 2176, 659, 664, 163, 676, 721, 2285, 238, 2287, 2288, 2289, 2290, 1779, 2291, 2292, 2293, 2294, 2295, 2297, 2299, 256, 264, 270, 284, 799, 800, 289, 1853, 1854, 1855, 320, 1856, 1857, 1858, 1859, 325, 1860, 327, 330, 842, 332, 333, 334, 1871, 337, 339, 341, 342, 344, 345, 346, 348, 358, 359, 361, 362, 363, 364, 365, 366, 367, 1392, 901, 1932, 1933, 1934, 399, 1935, 1936, 402, 1937, 404, 1938, 1939, 1940, 1941, 1942, 1943, 1944, 1945, 1947, 418, 423, 425, 431, 433, 434, 2021, 2022, 449, 1987, 2023, 1989, 1990, 1991, 1992, 1993, 1994, 1995, 1996, 1997, 1998, 1999, 2000, 2024, 2002, 2003, 2025, 469, 2026, 474, 1499, 2012, 480, 2017, 2018, 2019, 484, 2020, 1510, 1511, 1512, 1513, 1514, 1515, 492, 1516, 1517, 495, 1518, 1519, 1520, 1011, 500, 1521, 1522, 1523, 505, 508]\n"
     ]
    }
   ],
   "source": [
    "# Useless codes for dicom download purpose\n",
    "# Load Aux\n",
    "aux = pd.read_csv(\"diff_df.csv\")\n",
    "rm_idx = list(aux['Row_IDX_to_RM'])\n",
    "print(rm_idx)"
   ]
  },
  {
   "cell_type": "code",
   "execution_count": 6,
   "metadata": {
    "collapsed": false
   },
   "outputs": [
    {
     "ename": "FileExistsError",
     "evalue": "[Errno 17] File exists: 'all_tf'",
     "output_type": "error",
     "traceback": [
      "\u001b[0;31m---------------------------------------------------------------------------\u001b[0m",
      "\u001b[0;31mFileExistsError\u001b[0m                           Traceback (most recent call last)",
      "\u001b[0;32m<ipython-input-6-2e555950f6ad>\u001b[0m in \u001b[0;36m<module>\u001b[0;34m()\u001b[0m\n\u001b[1;32m      1\u001b[0m \u001b[0;32mif\u001b[0m \u001b[0mquery\u001b[0m \u001b[0;34m==\u001b[0m \u001b[0;34m''\u001b[0m\u001b[0;34m:\u001b[0m\u001b[0;34m\u001b[0m\u001b[0m\n\u001b[0;32m----> 2\u001b[0;31m     \u001b[0mos\u001b[0m\u001b[0;34m.\u001b[0m\u001b[0mmakedirs\u001b[0m\u001b[0;34m(\u001b[0m\u001b[0;34m'all_tf'\u001b[0m\u001b[0;34m)\u001b[0m\u001b[0;34m\u001b[0m\u001b[0m\n\u001b[0m\u001b[1;32m      3\u001b[0m     \u001b[0mos\u001b[0m\u001b[0;34m.\u001b[0m\u001b[0mchdir\u001b[0m\u001b[0;34m(\u001b[0m\u001b[0;34m'all_tf'\u001b[0m\u001b[0;34m)\u001b[0m\u001b[0;34m\u001b[0m\u001b[0m\n\u001b[1;32m      4\u001b[0m \u001b[0;32melse\u001b[0m\u001b[0;34m:\u001b[0m\u001b[0;34m\u001b[0m\u001b[0m\n\u001b[1;32m      5\u001b[0m     \u001b[0;32mif\u001b[0m \u001b[0;32mnot\u001b[0m \u001b[0mos\u001b[0m\u001b[0;34m.\u001b[0m\u001b[0mpath\u001b[0m\u001b[0;34m.\u001b[0m\u001b[0mexists\u001b[0m\u001b[0;34m(\u001b[0m\u001b[0mquery\u001b[0m\u001b[0;34m)\u001b[0m\u001b[0;34m:\u001b[0m\u001b[0;34m\u001b[0m\u001b[0m\n",
      "\u001b[0;32m/home/priya/anaconda3/lib/python3.6/os.py\u001b[0m in \u001b[0;36mmakedirs\u001b[0;34m(name, mode, exist_ok)\u001b[0m\n\u001b[1;32m    218\u001b[0m             \u001b[0;32mreturn\u001b[0m\u001b[0;34m\u001b[0m\u001b[0m\n\u001b[1;32m    219\u001b[0m     \u001b[0;32mtry\u001b[0m\u001b[0;34m:\u001b[0m\u001b[0;34m\u001b[0m\u001b[0m\n\u001b[0;32m--> 220\u001b[0;31m         \u001b[0mmkdir\u001b[0m\u001b[0;34m(\u001b[0m\u001b[0mname\u001b[0m\u001b[0;34m,\u001b[0m \u001b[0mmode\u001b[0m\u001b[0;34m)\u001b[0m\u001b[0;34m\u001b[0m\u001b[0m\n\u001b[0m\u001b[1;32m    221\u001b[0m     \u001b[0;32mexcept\u001b[0m \u001b[0mOSError\u001b[0m\u001b[0;34m:\u001b[0m\u001b[0;34m\u001b[0m\u001b[0m\n\u001b[1;32m    222\u001b[0m         \u001b[0;31m# Cannot rely on checking for EEXIST, since the operating system\u001b[0m\u001b[0;34m\u001b[0m\u001b[0;34m\u001b[0m\u001b[0m\n",
      "\u001b[0;31mFileExistsError\u001b[0m: [Errno 17] File exists: 'all_tf'"
     ]
    }
   ],
   "source": [
    "if query == '':\n",
    "    os.makedirs('all_tf')\n",
    "    os.chdir('all_tf')\n",
    "else:\n",
    "    if not os.path.exists(query):\n",
    "        os.makedirs(query)\n",
    "    os.chdir(query)"
   ]
  },
  {
   "cell_type": "code",
   "execution_count": null,
   "metadata": {
    "collapsed": false
   },
   "outputs": [],
   "source": [
    "pwd"
   ]
  },
  {
   "cell_type": "code",
   "execution_count": 7,
   "metadata": {
    "collapsed": false,
    "scrolled": true
   },
   "outputs": [
    {
     "name": "stdout",
     "output_type": "stream",
     "text": [
      "Downloading images.......\n",
      "Renal artery aneurysms in Neurofibromatosis\n",
      "Metastatic Disease (Male Genital Tract)\n",
      "Langerhans Cell Histiocytosis\n",
      "Osteochondritis dissicans\n",
      "Lymphoepithelial cysts\n",
      "Osteomyelitis with subperiosteal abscess and soft tissue extension\n",
      "Tuberous sclerosis\n",
      "Congenital Cystic Adenomatoid Malformation\n",
      "Idiopathic chondrolysis\n",
      "Hydrocarbon pneumonitis\n",
      "Cerebellitis\n",
      "Subdural Hemorrhage\n",
      "Popliteal Artery Entrapment Syndrome\n",
      "Pulmonary sequestration-CCAM\n",
      "Shwachman-Diamond syndrome\n",
      "Fibrolipomatous Hamartoma of the Median Nerve\n",
      "Osteopetrorickets\n",
      "Bilateral quadriceps tendon rupture secondary to hyperparathyroidism\n",
      "Pneumatosis cystoides intestinalis\n",
      "test case2\n",
      "Pyelonephritis\n",
      "Air Leak - Respiratory Distress Syndrome\n",
      "Pulmonary interstitial emphysema\n",
      "Pneumoperitoneum\n",
      "Misplaced PICC line\n",
      "Malpositioned nasogastric tube\n",
      "Necrotizing enterocolitis\n",
      "Pneumomediastinum\n",
      "Pneumopericardium and pneumomediastinum\n",
      "Malpositioned tracheostomy tube\n",
      "Malpositioned endotracheal tube\n",
      "Misplaced UVC\n",
      "Malpositioned umbilical venous and arterial catheters\n",
      "Course of umbilical venous and arterial catheters\n",
      "Neuroblastoma\n",
      "Hepatoblastoma\n",
      "Rhabdoid tumor\n",
      "Papillary cystic neoplasm\n",
      "Wilms' tumor with nephroblastomatosis\n",
      "Vaginal Rhabdomyosarcoma\n",
      "Sacrococcygeal teratoma\n",
      "Pheochromocytoma\n",
      "Pancreatoblastoma\n",
      "Metastatic neuroblastoma\n",
      "Leukemia of the bones\n",
      "Ganglioneuroma\n",
      "Dysgerminoma\n",
      "Burkitt's Lymphoma\n",
      "Embryonal rhabdomyosarcoma of the bladder\n",
      "Osteogenesis imperfecta\n",
      "Langerhans cell histiocytosis\n",
      "Marfan syndrome\n",
      "Cleidocranial dysplasia\n",
      "VATERL\n",
      "Morquio Syndrome (MPS IV)\n",
      "Achondroplasia\n",
      "Enchondromatosis - Ollier's disease\n",
      "Diastrophic dysplasia\n",
      "Asphyxiating Thoracic Dysplasia\n",
      "Heterotaxy syndrome\n",
      "Turner's syndrome\n",
      "Osteopetrosis\n",
      "Hypothyroidism\n",
      "Hypophosphatasia\n",
      "Chondroectodermal dysplasia\n",
      "Chondrodysplasia Punctata, Rhizomelic Type\n",
      "Achondrogenesis - type I\n",
      "Dandy Walker Malformation\n",
      "Bilateral optic nerve gliomas (Neurofibromatosis type I)\n",
      "Intradural lipoma\n",
      "Orbital cellulitis\n",
      "AVM involving Vein of Galen\n",
      "Leptomeningeal cysts\n",
      "Sturge-Weber\n",
      "Longitudinal fracture of right temporal bone\n",
      "Bilateral perisylvian open lip schizencephaly\n",
      "Sagittal craniosynostosis\n",
      "Pineoblastoma\n",
      "Metastatic neuroblastoma\n",
      "Medulloblastoma\n",
      "Lymphoepithelial cysts\n",
      "Juvenile angiofibroma\n",
      "Cerebral abscess\n",
      "Hemimegalencephaly\n",
      "Choanal atresia\n",
      "Ependymoma\n",
      "Craniopharyngioma\n",
      "Tuberculosis of the spine (Potts disease)\n",
      "Germinal matrix hemorrhage, grade IV\n"
     ]
    },
    {
     "ename": "HTTPError",
     "evalue": "HTTP Error 404: ",
     "output_type": "error",
     "traceback": [
      "\u001b[0;31m---------------------------------------------------------------------------\u001b[0m",
      "\u001b[0;31mHTTPError\u001b[0m                                 Traceback (most recent call last)",
      "\u001b[0;32m<ipython-input-7-ba9d49fdb0f0>\u001b[0m in \u001b[0;36m<module>\u001b[0;34m()\u001b[0m\n\u001b[1;32m     64\u001b[0m                     \u001b[0mofile\u001b[0m\u001b[0;34m.\u001b[0m\u001b[0mwrite\u001b[0m\u001b[0;34m(\u001b[0m\u001b[0mstr\u001b[0m\u001b[0;34m(\u001b[0m\u001b[0mx\u001b[0m\u001b[0;34m)\u001b[0m\u001b[0;34m+\u001b[0m\u001b[0;34m','\u001b[0m\u001b[0;34m+\u001b[0m\u001b[0mos\u001b[0m\u001b[0;34m.\u001b[0m\u001b[0mgetcwd\u001b[0m\u001b[0;34m(\u001b[0m\u001b[0;34m)\u001b[0m\u001b[0;34m+\u001b[0m\u001b[0mbig_title\u001b[0m\u001b[0;34m+\u001b[0m\u001b[0;34m\"_IMAGE\"\u001b[0m\u001b[0;34m+\u001b[0m\u001b[0mstr\u001b[0m\u001b[0;34m(\u001b[0m\u001b[0mimg_index\u001b[0m\u001b[0;34m)\u001b[0m\u001b[0;34m)\u001b[0m\u001b[0;34m\u001b[0m\u001b[0m\n\u001b[1;32m     65\u001b[0m                     \u001b[0mofile\u001b[0m\u001b[0;34m.\u001b[0m\u001b[0mwrite\u001b[0m\u001b[0;34m(\u001b[0m\u001b[0;34m'\\n'\u001b[0m\u001b[0;34m)\u001b[0m\u001b[0;34m\u001b[0m\u001b[0m\n\u001b[0;32m---> 66\u001b[0;31m                     \u001b[0murllib\u001b[0m\u001b[0;34m.\u001b[0m\u001b[0mrequest\u001b[0m\u001b[0;34m.\u001b[0m\u001b[0murlretrieve\u001b[0m\u001b[0;34m(\u001b[0m\u001b[0mcomplete_img_path\u001b[0m\u001b[0;34m,\u001b[0m \u001b[0mbig_title\u001b[0m\u001b[0;34m+\u001b[0m\u001b[0;34m\"_IMAGE\"\u001b[0m\u001b[0;34m+\u001b[0m\u001b[0mstr\u001b[0m\u001b[0;34m(\u001b[0m\u001b[0mimg_index\u001b[0m\u001b[0;34m)\u001b[0m\u001b[0;34m)\u001b[0m\u001b[0;34m\u001b[0m\u001b[0m\n\u001b[0m\u001b[1;32m     67\u001b[0m                     \u001b[0mimg_index\u001b[0m \u001b[0;34m=\u001b[0m \u001b[0mimg_index\u001b[0m \u001b[0;34m+\u001b[0m \u001b[0;36m1\u001b[0m\u001b[0;34m\u001b[0m\u001b[0m\n\u001b[1;32m     68\u001b[0m             \u001b[0;32mexcept\u001b[0m \u001b[0mIndexError\u001b[0m\u001b[0;34m:\u001b[0m\u001b[0;34m\u001b[0m\u001b[0m\n",
      "\u001b[0;32m/home/priya/anaconda3/lib/python3.6/urllib/request.py\u001b[0m in \u001b[0;36murlretrieve\u001b[0;34m(url, filename, reporthook, data)\u001b[0m\n\u001b[1;32m    246\u001b[0m     \u001b[0murl_type\u001b[0m\u001b[0;34m,\u001b[0m \u001b[0mpath\u001b[0m \u001b[0;34m=\u001b[0m \u001b[0msplittype\u001b[0m\u001b[0;34m(\u001b[0m\u001b[0murl\u001b[0m\u001b[0;34m)\u001b[0m\u001b[0;34m\u001b[0m\u001b[0m\n\u001b[1;32m    247\u001b[0m \u001b[0;34m\u001b[0m\u001b[0m\n\u001b[0;32m--> 248\u001b[0;31m     \u001b[0;32mwith\u001b[0m \u001b[0mcontextlib\u001b[0m\u001b[0;34m.\u001b[0m\u001b[0mclosing\u001b[0m\u001b[0;34m(\u001b[0m\u001b[0murlopen\u001b[0m\u001b[0;34m(\u001b[0m\u001b[0murl\u001b[0m\u001b[0;34m,\u001b[0m \u001b[0mdata\u001b[0m\u001b[0;34m)\u001b[0m\u001b[0;34m)\u001b[0m \u001b[0;32mas\u001b[0m \u001b[0mfp\u001b[0m\u001b[0;34m:\u001b[0m\u001b[0;34m\u001b[0m\u001b[0m\n\u001b[0m\u001b[1;32m    249\u001b[0m         \u001b[0mheaders\u001b[0m \u001b[0;34m=\u001b[0m \u001b[0mfp\u001b[0m\u001b[0;34m.\u001b[0m\u001b[0minfo\u001b[0m\u001b[0;34m(\u001b[0m\u001b[0;34m)\u001b[0m\u001b[0;34m\u001b[0m\u001b[0m\n\u001b[1;32m    250\u001b[0m \u001b[0;34m\u001b[0m\u001b[0m\n",
      "\u001b[0;32m/home/priya/anaconda3/lib/python3.6/urllib/request.py\u001b[0m in \u001b[0;36murlopen\u001b[0;34m(url, data, timeout, cafile, capath, cadefault, context)\u001b[0m\n\u001b[1;32m    221\u001b[0m     \u001b[0;32melse\u001b[0m\u001b[0;34m:\u001b[0m\u001b[0;34m\u001b[0m\u001b[0m\n\u001b[1;32m    222\u001b[0m         \u001b[0mopener\u001b[0m \u001b[0;34m=\u001b[0m \u001b[0m_opener\u001b[0m\u001b[0;34m\u001b[0m\u001b[0m\n\u001b[0;32m--> 223\u001b[0;31m     \u001b[0;32mreturn\u001b[0m \u001b[0mopener\u001b[0m\u001b[0;34m.\u001b[0m\u001b[0mopen\u001b[0m\u001b[0;34m(\u001b[0m\u001b[0murl\u001b[0m\u001b[0;34m,\u001b[0m \u001b[0mdata\u001b[0m\u001b[0;34m,\u001b[0m \u001b[0mtimeout\u001b[0m\u001b[0;34m)\u001b[0m\u001b[0;34m\u001b[0m\u001b[0m\n\u001b[0m\u001b[1;32m    224\u001b[0m \u001b[0;34m\u001b[0m\u001b[0m\n\u001b[1;32m    225\u001b[0m \u001b[0;32mdef\u001b[0m \u001b[0minstall_opener\u001b[0m\u001b[0;34m(\u001b[0m\u001b[0mopener\u001b[0m\u001b[0;34m)\u001b[0m\u001b[0;34m:\u001b[0m\u001b[0;34m\u001b[0m\u001b[0m\n",
      "\u001b[0;32m/home/priya/anaconda3/lib/python3.6/urllib/request.py\u001b[0m in \u001b[0;36mopen\u001b[0;34m(self, fullurl, data, timeout)\u001b[0m\n\u001b[1;32m    530\u001b[0m         \u001b[0;32mfor\u001b[0m \u001b[0mprocessor\u001b[0m \u001b[0;32min\u001b[0m \u001b[0mself\u001b[0m\u001b[0;34m.\u001b[0m\u001b[0mprocess_response\u001b[0m\u001b[0;34m.\u001b[0m\u001b[0mget\u001b[0m\u001b[0;34m(\u001b[0m\u001b[0mprotocol\u001b[0m\u001b[0;34m,\u001b[0m \u001b[0;34m[\u001b[0m\u001b[0;34m]\u001b[0m\u001b[0;34m)\u001b[0m\u001b[0;34m:\u001b[0m\u001b[0;34m\u001b[0m\u001b[0m\n\u001b[1;32m    531\u001b[0m             \u001b[0mmeth\u001b[0m \u001b[0;34m=\u001b[0m \u001b[0mgetattr\u001b[0m\u001b[0;34m(\u001b[0m\u001b[0mprocessor\u001b[0m\u001b[0;34m,\u001b[0m \u001b[0mmeth_name\u001b[0m\u001b[0;34m)\u001b[0m\u001b[0;34m\u001b[0m\u001b[0m\n\u001b[0;32m--> 532\u001b[0;31m             \u001b[0mresponse\u001b[0m \u001b[0;34m=\u001b[0m \u001b[0mmeth\u001b[0m\u001b[0;34m(\u001b[0m\u001b[0mreq\u001b[0m\u001b[0;34m,\u001b[0m \u001b[0mresponse\u001b[0m\u001b[0;34m)\u001b[0m\u001b[0;34m\u001b[0m\u001b[0m\n\u001b[0m\u001b[1;32m    533\u001b[0m \u001b[0;34m\u001b[0m\u001b[0m\n\u001b[1;32m    534\u001b[0m         \u001b[0;32mreturn\u001b[0m \u001b[0mresponse\u001b[0m\u001b[0;34m\u001b[0m\u001b[0m\n",
      "\u001b[0;32m/home/priya/anaconda3/lib/python3.6/urllib/request.py\u001b[0m in \u001b[0;36mhttp_response\u001b[0;34m(self, request, response)\u001b[0m\n\u001b[1;32m    640\u001b[0m         \u001b[0;32mif\u001b[0m \u001b[0;32mnot\u001b[0m \u001b[0;34m(\u001b[0m\u001b[0;36m200\u001b[0m \u001b[0;34m<=\u001b[0m \u001b[0mcode\u001b[0m \u001b[0;34m<\u001b[0m \u001b[0;36m300\u001b[0m\u001b[0;34m)\u001b[0m\u001b[0;34m:\u001b[0m\u001b[0;34m\u001b[0m\u001b[0m\n\u001b[1;32m    641\u001b[0m             response = self.parent.error(\n\u001b[0;32m--> 642\u001b[0;31m                 'http', request, response, code, msg, hdrs)\n\u001b[0m\u001b[1;32m    643\u001b[0m \u001b[0;34m\u001b[0m\u001b[0m\n\u001b[1;32m    644\u001b[0m         \u001b[0;32mreturn\u001b[0m \u001b[0mresponse\u001b[0m\u001b[0;34m\u001b[0m\u001b[0m\n",
      "\u001b[0;32m/home/priya/anaconda3/lib/python3.6/urllib/request.py\u001b[0m in \u001b[0;36merror\u001b[0;34m(self, proto, *args)\u001b[0m\n\u001b[1;32m    568\u001b[0m         \u001b[0;32mif\u001b[0m \u001b[0mhttp_err\u001b[0m\u001b[0;34m:\u001b[0m\u001b[0;34m\u001b[0m\u001b[0m\n\u001b[1;32m    569\u001b[0m             \u001b[0margs\u001b[0m \u001b[0;34m=\u001b[0m \u001b[0;34m(\u001b[0m\u001b[0mdict\u001b[0m\u001b[0;34m,\u001b[0m \u001b[0;34m'default'\u001b[0m\u001b[0;34m,\u001b[0m \u001b[0;34m'http_error_default'\u001b[0m\u001b[0;34m)\u001b[0m \u001b[0;34m+\u001b[0m \u001b[0morig_args\u001b[0m\u001b[0;34m\u001b[0m\u001b[0m\n\u001b[0;32m--> 570\u001b[0;31m             \u001b[0;32mreturn\u001b[0m \u001b[0mself\u001b[0m\u001b[0;34m.\u001b[0m\u001b[0m_call_chain\u001b[0m\u001b[0;34m(\u001b[0m\u001b[0;34m*\u001b[0m\u001b[0margs\u001b[0m\u001b[0;34m)\u001b[0m\u001b[0;34m\u001b[0m\u001b[0m\n\u001b[0m\u001b[1;32m    571\u001b[0m \u001b[0;34m\u001b[0m\u001b[0m\n\u001b[1;32m    572\u001b[0m \u001b[0;31m# XXX probably also want an abstract factory that knows when it makes\u001b[0m\u001b[0;34m\u001b[0m\u001b[0;34m\u001b[0m\u001b[0m\n",
      "\u001b[0;32m/home/priya/anaconda3/lib/python3.6/urllib/request.py\u001b[0m in \u001b[0;36m_call_chain\u001b[0;34m(self, chain, kind, meth_name, *args)\u001b[0m\n\u001b[1;32m    502\u001b[0m         \u001b[0;32mfor\u001b[0m \u001b[0mhandler\u001b[0m \u001b[0;32min\u001b[0m \u001b[0mhandlers\u001b[0m\u001b[0;34m:\u001b[0m\u001b[0;34m\u001b[0m\u001b[0m\n\u001b[1;32m    503\u001b[0m             \u001b[0mfunc\u001b[0m \u001b[0;34m=\u001b[0m \u001b[0mgetattr\u001b[0m\u001b[0;34m(\u001b[0m\u001b[0mhandler\u001b[0m\u001b[0;34m,\u001b[0m \u001b[0mmeth_name\u001b[0m\u001b[0;34m)\u001b[0m\u001b[0;34m\u001b[0m\u001b[0m\n\u001b[0;32m--> 504\u001b[0;31m             \u001b[0mresult\u001b[0m \u001b[0;34m=\u001b[0m \u001b[0mfunc\u001b[0m\u001b[0;34m(\u001b[0m\u001b[0;34m*\u001b[0m\u001b[0margs\u001b[0m\u001b[0;34m)\u001b[0m\u001b[0;34m\u001b[0m\u001b[0m\n\u001b[0m\u001b[1;32m    505\u001b[0m             \u001b[0;32mif\u001b[0m \u001b[0mresult\u001b[0m \u001b[0;32mis\u001b[0m \u001b[0;32mnot\u001b[0m \u001b[0;32mNone\u001b[0m\u001b[0;34m:\u001b[0m\u001b[0;34m\u001b[0m\u001b[0m\n\u001b[1;32m    506\u001b[0m                 \u001b[0;32mreturn\u001b[0m \u001b[0mresult\u001b[0m\u001b[0;34m\u001b[0m\u001b[0m\n",
      "\u001b[0;32m/home/priya/anaconda3/lib/python3.6/urllib/request.py\u001b[0m in \u001b[0;36mhttp_error_default\u001b[0;34m(self, req, fp, code, msg, hdrs)\u001b[0m\n\u001b[1;32m    648\u001b[0m \u001b[0;32mclass\u001b[0m \u001b[0mHTTPDefaultErrorHandler\u001b[0m\u001b[0;34m(\u001b[0m\u001b[0mBaseHandler\u001b[0m\u001b[0;34m)\u001b[0m\u001b[0;34m:\u001b[0m\u001b[0;34m\u001b[0m\u001b[0m\n\u001b[1;32m    649\u001b[0m     \u001b[0;32mdef\u001b[0m \u001b[0mhttp_error_default\u001b[0m\u001b[0;34m(\u001b[0m\u001b[0mself\u001b[0m\u001b[0;34m,\u001b[0m \u001b[0mreq\u001b[0m\u001b[0;34m,\u001b[0m \u001b[0mfp\u001b[0m\u001b[0;34m,\u001b[0m \u001b[0mcode\u001b[0m\u001b[0;34m,\u001b[0m \u001b[0mmsg\u001b[0m\u001b[0;34m,\u001b[0m \u001b[0mhdrs\u001b[0m\u001b[0;34m)\u001b[0m\u001b[0;34m:\u001b[0m\u001b[0;34m\u001b[0m\u001b[0m\n\u001b[0;32m--> 650\u001b[0;31m         \u001b[0;32mraise\u001b[0m \u001b[0mHTTPError\u001b[0m\u001b[0;34m(\u001b[0m\u001b[0mreq\u001b[0m\u001b[0;34m.\u001b[0m\u001b[0mfull_url\u001b[0m\u001b[0;34m,\u001b[0m \u001b[0mcode\u001b[0m\u001b[0;34m,\u001b[0m \u001b[0mmsg\u001b[0m\u001b[0;34m,\u001b[0m \u001b[0mhdrs\u001b[0m\u001b[0;34m,\u001b[0m \u001b[0mfp\u001b[0m\u001b[0;34m)\u001b[0m\u001b[0;34m\u001b[0m\u001b[0m\n\u001b[0m\u001b[1;32m    651\u001b[0m \u001b[0;34m\u001b[0m\u001b[0m\n\u001b[1;32m    652\u001b[0m \u001b[0;32mclass\u001b[0m \u001b[0mHTTPRedirectHandler\u001b[0m\u001b[0;34m(\u001b[0m\u001b[0mBaseHandler\u001b[0m\u001b[0;34m)\u001b[0m\u001b[0;34m:\u001b[0m\u001b[0;34m\u001b[0m\u001b[0m\n",
      "\u001b[0;31mHTTPError\u001b[0m: HTTP Error 404: "
     ]
    }
   ],
   "source": [
    "# Create a container to store file path info\n",
    "ofile = open(query+'_file_path_info.csv', 'w')\n",
    "ofile.write('TFID, File Path')\n",
    "ofile.write('\\n')\n",
    "\n",
    "# Check both jpeg and dicom images\n",
    "print('Downloading images.......')\n",
    "for x, xml in enumerate(bbs.find_all(\"a\", href = True)):\n",
    "    if x in rm_idx:\n",
    "        continue\n",
    "    else:\n",
    "        img_index = 1 # For image identifier purpose\n",
    "        img_index2 = 1\n",
    "        temp = xml['href']\n",
    "        # Grab html address without xml file string\n",
    "        html_addr_wo_xml = temp.rsplit('/', 1)[0]\n",
    "\n",
    "        # Store images per Teaching File\n",
    "        with urllib.request.urlopen(temp) as url:\n",
    "            sou = url.read()\n",
    "            soup = BeautifulSoup(sou)\n",
    "            big_title = soup.find_all('h1')[0].text # title of TF\n",
    "\n",
    "            # Check if a slash '/' exists in TF title, replace it to a dash '-'\n",
    "            if '/' in big_title:\n",
    "                big_title = big_title.replace('/', '-')\n",
    "\n",
    "            print(big_title)\n",
    "            # Create a directory per TF\n",
    "            if not os.path.exists(big_title):\n",
    "                os.makedirs(big_title)\n",
    "                os.chdir(big_title)\n",
    "            else:\n",
    "                curr_time = datetime.now()\n",
    "                curr_time = str(curr_time).split('.')[0]+\"_\"+str(curr_time).split('.')[1]\n",
    "\n",
    "                # in spite of the same title, multiple folders might be created based on different time\n",
    "                ano_title = big_title+\"_\"+str(curr_time)\n",
    "                os.makedirs(ano_title)\n",
    "                os.chdir(ano_title)\n",
    "\n",
    "            try:\n",
    "                img_html = soup.find_all('script')\n",
    "                container = img_html[4].text.strip().split(',')\n",
    "\n",
    "                img_ls = []\n",
    "                for q in container:\n",
    "                    if '.jpg' in q.lower() and len(q) < 50:\n",
    "                        img_ls.append(q)\n",
    "                    elif 'full.jpeg' in q.lower() and len(q) < 50:\n",
    "                        img_ls.append(q)\n",
    "\n",
    "                # For instance, if filename contains a space like \"CT HEAD BONEWINDOW 1.jpg\", \n",
    "                # Replace a space by %20 to make it work\n",
    "                for img_filename in img_ls:\n",
    "                    if ' ' in img_filename:\n",
    "                        img_filename = img_filename.replace(' ', '%20')             \n",
    "\n",
    "                    complete_img_path = html_addr_wo_xml+'/'+img_filename[1:-1]\n",
    "\n",
    "                    # Download file into physical drive\n",
    "                    # Create a new folder for storing images\n",
    "                    # The convention of naming image file is as follows: 'teaching file title_IMAGE(number)\n",
    "                    ofile.write(str(x)+','+os.getcwd()+big_title+\"_IMAGE\"+str(img_index))\n",
    "                    ofile.write('\\n')\n",
    "                    urllib.request.urlretrieve(complete_img_path, big_title+\"_IMAGE\"+str(img_index))\n",
    "                    img_index = img_index + 1\n",
    "            except IndexError:\n",
    "                os.chdir('..')      \n",
    "\n",
    "            for script in soup.find_all('script'):\n",
    "                for q in script.children:\n",
    "                    if 'dcm' in str(q.find_all_next):    \n",
    "                        big_title = soup.find_all('h1')[0].text # title of TF\n",
    "                        # Check if a slash '/' exists in TF title, replace it to a dash '-'\n",
    "                        if '/' in big_title:\n",
    "                            big_title = big_title.replace('/', '-')\n",
    "                        temp_dcm = str(q.find_all_next)\n",
    "                        match = re.findall(r'[\\w|\\d]+.dcm', temp_dcm)\n",
    "                        print(str(len(match))+\" dicom images are found!\")\n",
    "                        print(match)\n",
    "\n",
    "                        # Download dicom images\n",
    "                        for img_filename in match:                \n",
    "                            complete_img_path = html_addr_wo_xml+'/'+img_filename\n",
    "                            print(complete_img_path)\n",
    "                            # Download file into physical drive\n",
    "                            # Create a new folder for storing images\n",
    "                            # The convention of naming image file is as follows: 'teaching file title_IMAGE(number)\n",
    "                            ofile.write(str(x)+','+os.getcwd()+str(img_filename)+\"_dicom_\"+str(img_index2))\n",
    "                            ofile.write('\\n')\n",
    "                            urllib.request.urlretrieve(complete_img_path, str(img_filename)+\"_dicom_\"+str(img_index2))\n",
    "                            img_index2 = img_index2 + 1\n",
    "        os.chdir('..')\n",
    "os.chdir('..')\n",
    "print(\"Image Download Completed!!\")"
   ]
  },
  {
   "cell_type": "code",
   "execution_count": null,
   "metadata": {
    "collapsed": false
   },
   "outputs": [],
   "source": []
  },
  {
   "cell_type": "code",
   "execution_count": null,
   "metadata": {
    "collapsed": true
   },
   "outputs": [],
   "source": []
  }
 ],
 "metadata": {
  "anaconda-cloud": {},
  "kernelspec": {
   "display_name": "Python 3",
   "language": "python",
   "name": "python3"
  },
  "language_info": {
   "codemirror_mode": {
    "name": "ipython",
    "version": 3
   },
   "file_extension": ".py",
   "mimetype": "text/x-python",
   "name": "python",
   "nbconvert_exporter": "python",
   "pygments_lexer": "ipython3",
   "version": "3.5.1"
  },
  "nav_menu": {},
  "toc": {
   "navigate_menu": true,
   "number_sections": true,
   "sideBar": true,
   "threshold": 6,
   "toc_cell": false,
   "toc_section_display": "block",
   "toc_window_display": false
  }
 },
 "nbformat": 4,
 "nbformat_minor": 0
}
